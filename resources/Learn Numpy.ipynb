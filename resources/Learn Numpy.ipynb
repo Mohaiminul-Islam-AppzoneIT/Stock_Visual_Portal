{
 "cells": [
  {
   "cell_type": "code",
   "execution_count": 1,
   "id": "b430be2b-23d4-4792-b520-21c1f9ed1fe9",
   "metadata": {},
   "outputs": [],
   "source": [
    "import numpy as np"
   ]
  },
  {
   "cell_type": "code",
   "execution_count": 2,
   "id": "dff53495-16f6-40d6-a46e-c207575c519f",
   "metadata": {},
   "outputs": [
    {
     "data": {
      "text/plain": [
       "'1.26.4'"
      ]
     },
     "execution_count": 2,
     "metadata": {},
     "output_type": "execute_result"
    }
   ],
   "source": [
    "np.__version__"
   ]
  },
  {
   "cell_type": "markdown",
   "id": "72eb88f6-ec14-494d-8d48-551b84d4e0d0",
   "metadata": {},
   "source": [
    "## Create & Read "
   ]
  },
  {
   "cell_type": "markdown",
   "id": "560b13f0-39a9-4b9a-98b9-2c9d8aa627e8",
   "metadata": {},
   "source": [
    "### 1D Array "
   ]
  },
  {
   "cell_type": "code",
   "execution_count": 3,
   "id": "1502fd95-99df-438a-bd4f-608604d9f1e4",
   "metadata": {},
   "outputs": [
    {
     "data": {
      "text/plain": [
       "array([1, 2, 3, 4, 5])"
      ]
     },
     "execution_count": 3,
     "metadata": {},
     "output_type": "execute_result"
    }
   ],
   "source": [
    "arr1 = np.array([1,2,3,4,5])\n",
    "arr1"
   ]
  },
  {
   "cell_type": "code",
   "execution_count": 4,
   "id": "341edd96-c1df-458b-8563-026d76127fc6",
   "metadata": {},
   "outputs": [
    {
     "data": {
      "text/plain": [
       "numpy.ndarray"
      ]
     },
     "execution_count": 4,
     "metadata": {},
     "output_type": "execute_result"
    }
   ],
   "source": [
    "type(arr1)"
   ]
  },
  {
   "cell_type": "code",
   "execution_count": 5,
   "id": "3411cbec-497a-4d1c-b9e2-c8030bfe70d2",
   "metadata": {},
   "outputs": [
    {
     "data": {
      "text/plain": [
       "(5,)"
      ]
     },
     "execution_count": 5,
     "metadata": {},
     "output_type": "execute_result"
    }
   ],
   "source": [
    "arr1.shape"
   ]
  },
  {
   "cell_type": "code",
   "execution_count": 6,
   "id": "3d44e38a-8098-456b-baf4-4e5321b00459",
   "metadata": {},
   "outputs": [
    {
     "data": {
      "text/plain": [
       "dtype('int32')"
      ]
     },
     "execution_count": 6,
     "metadata": {},
     "output_type": "execute_result"
    }
   ],
   "source": [
    "arr1.dtype"
   ]
  },
  {
   "cell_type": "code",
   "execution_count": 7,
   "id": "ccd9f69f-cee1-4a85-823b-b8c59166dbef",
   "metadata": {},
   "outputs": [
    {
     "data": {
      "text/plain": [
       "1"
      ]
     },
     "execution_count": 7,
     "metadata": {},
     "output_type": "execute_result"
    }
   ],
   "source": [
    "arr1.ndim"
   ]
  },
  {
   "cell_type": "code",
   "execution_count": 8,
   "id": "60cee2cb-b204-4959-9d6a-a8968e559df6",
   "metadata": {},
   "outputs": [
    {
     "data": {
      "text/plain": [
       "5"
      ]
     },
     "execution_count": 8,
     "metadata": {},
     "output_type": "execute_result"
    }
   ],
   "source": [
    "arr1.size"
   ]
  },
  {
   "cell_type": "markdown",
   "id": "e743f953-0a90-4c9e-b1e5-fe3bd8fe769e",
   "metadata": {},
   "source": [
    " ### 2D array "
   ]
  },
  {
   "cell_type": "code",
   "execution_count": 11,
   "id": "e05720bf-762d-4097-a155-45825ef6ead1",
   "metadata": {},
   "outputs": [
    {
     "data": {
      "text/plain": [
       "array([[1, 2, 3, 4],\n",
       "       [5, 6, 7, 8]])"
      ]
     },
     "execution_count": 11,
     "metadata": {},
     "output_type": "execute_result"
    }
   ],
   "source": [
    "arr2 = np.array([[1,2,3,4], [5, 6, 7, 8]])\n",
    "arr2"
   ]
  },
  {
   "cell_type": "code",
   "execution_count": 12,
   "id": "8f8acf0a-9e5c-4478-a2be-0472d127fd5c",
   "metadata": {},
   "outputs": [
    {
     "data": {
      "text/plain": [
       "2"
      ]
     },
     "execution_count": 12,
     "metadata": {},
     "output_type": "execute_result"
    }
   ],
   "source": [
    "arr2.ndim\n"
   ]
  },
  {
   "cell_type": "code",
   "execution_count": 13,
   "id": "916a1519-0dc8-454e-8c28-eee4f52a3dce",
   "metadata": {},
   "outputs": [
    {
     "data": {
      "text/plain": [
       "(2, 4)"
      ]
     },
     "execution_count": 13,
     "metadata": {},
     "output_type": "execute_result"
    }
   ],
   "source": [
    "arr2.shape"
   ]
  },
  {
   "cell_type": "code",
   "execution_count": 14,
   "id": "242dd81b-a59c-4953-beeb-9637690fab6f",
   "metadata": {},
   "outputs": [
    {
     "data": {
      "text/plain": [
       "dtype('int32')"
      ]
     },
     "execution_count": 14,
     "metadata": {},
     "output_type": "execute_result"
    }
   ],
   "source": [
    "arr2.dtype"
   ]
  },
  {
   "cell_type": "code",
   "execution_count": 15,
   "id": "700d1b39-7404-4c0a-94a5-749d93cde57b",
   "metadata": {},
   "outputs": [
    {
     "data": {
      "text/plain": [
       "8"
      ]
     },
     "execution_count": 15,
     "metadata": {},
     "output_type": "execute_result"
    }
   ],
   "source": [
    "arr2.size"
   ]
  },
  {
   "cell_type": "markdown",
   "id": "7f8d781a-2c7b-4ec0-9fd8-0290db920031",
   "metadata": {},
   "source": [
    "### 3D array "
   ]
  },
  {
   "cell_type": "code",
   "execution_count": 21,
   "id": "2ea7aaa9-0698-4e09-8440-c700fae629b6",
   "metadata": {},
   "outputs": [],
   "source": [
    "arr3 = np.array([[[1,2,3,4], [5, 6, 7, 8]], [[1,2,3,4], [5, 6, 7, 8]],[[1,2,3,4], [5, 6, 7, 8]]])"
   ]
  },
  {
   "cell_type": "code",
   "execution_count": 22,
   "id": "103978a3-47f9-41f9-ac98-aeab82ddbbc6",
   "metadata": {},
   "outputs": [
    {
     "data": {
      "text/plain": [
       "array([[[1, 2, 3, 4],\n",
       "        [5, 6, 7, 8]],\n",
       "\n",
       "       [[1, 2, 3, 4],\n",
       "        [5, 6, 7, 8]],\n",
       "\n",
       "       [[1, 2, 3, 4],\n",
       "        [5, 6, 7, 8]]])"
      ]
     },
     "execution_count": 22,
     "metadata": {},
     "output_type": "execute_result"
    }
   ],
   "source": [
    "arr3"
   ]
  },
  {
   "cell_type": "code",
   "execution_count": 23,
   "id": "f9f8a603-73be-4aaf-888f-aefcec78e178",
   "metadata": {},
   "outputs": [
    {
     "data": {
      "text/plain": [
       "3"
      ]
     },
     "execution_count": 23,
     "metadata": {},
     "output_type": "execute_result"
    }
   ],
   "source": [
    "arr3.ndim\n"
   ]
  },
  {
   "cell_type": "code",
   "execution_count": 24,
   "id": "bdba0bcd-0357-4222-8489-73cdb8f935b0",
   "metadata": {},
   "outputs": [
    {
     "data": {
      "text/plain": [
       "(3, 2, 4)"
      ]
     },
     "execution_count": 24,
     "metadata": {},
     "output_type": "execute_result"
    }
   ],
   "source": [
    "arr3.shape"
   ]
  },
  {
   "cell_type": "markdown",
   "id": "5a8e63d8-7ce6-4635-a098-df26948becb0",
   "metadata": {},
   "source": [
    "### Create random Array "
   ]
  },
  {
   "cell_type": "code",
   "execution_count": 25,
   "id": "e210b510-f67a-43e8-9ace-561260cc235d",
   "metadata": {},
   "outputs": [
    {
     "data": {
      "text/plain": [
       "array([[[0.14108587, 0.71541383, 0.36748382],\n",
       "        [0.2009905 , 0.74669521, 0.54424965]],\n",
       "\n",
       "       [[0.21531398, 0.29501844, 0.16564698],\n",
       "        [0.63060521, 0.98351739, 0.34212894]],\n",
       "\n",
       "       [[0.44779653, 0.39489783, 0.3254716 ],\n",
       "        [0.74845385, 0.45275121, 0.19346037]]])"
      ]
     },
     "execution_count": 25,
     "metadata": {},
     "output_type": "execute_result"
    }
   ],
   "source": [
    "randomarr = np.random.rand(3,2,3)\n",
    "randomarr"
   ]
  },
  {
   "cell_type": "code",
   "execution_count": 26,
   "id": "aaa57efb-2dd2-4163-a545-01637cebbb50",
   "metadata": {},
   "outputs": [
    {
     "ename": "NameError",
     "evalue": "name 'random' is not defined",
     "output_type": "error",
     "traceback": [
      "\u001b[1;31m---------------------------------------------------------------------------\u001b[0m",
      "\u001b[1;31mNameError\u001b[0m                                 Traceback (most recent call last)",
      "Cell \u001b[1;32mIn[26], line 1\u001b[0m\n\u001b[1;32m----> 1\u001b[0m random\u001b[38;5;241m.\u001b[39mdtype\n",
      "\u001b[1;31mNameError\u001b[0m: name 'random' is not defined"
     ]
    }
   ],
   "source": [
    "random.dtype"
   ]
  },
  {
   "cell_type": "code",
   "execution_count": 27,
   "id": "3625dd4d-0c41-4c09-b01c-5cf2d593c020",
   "metadata": {},
   "outputs": [
    {
     "data": {
      "text/plain": [
       "dtype('float64')"
      ]
     },
     "execution_count": 27,
     "metadata": {},
     "output_type": "execute_result"
    }
   ],
   "source": [
    "randomarr.dtype"
   ]
  },
  {
   "cell_type": "code",
   "execution_count": 34,
   "id": "1bf494bb-b2ef-48e6-95e4-4ae40b1523d8",
   "metadata": {},
   "outputs": [],
   "source": [
    "zerosarr = np.zeros((2,3,3))"
   ]
  },
  {
   "cell_type": "code",
   "execution_count": null,
   "id": "3cf124f5-73b8-4e8a-b328-debc14d890f3",
   "metadata": {},
   "outputs": [],
   "source": []
  },
  {
   "cell_type": "code",
   "execution_count": null,
   "id": "9022bfdc-1fa6-48f8-aec1-4aed874fcd20",
   "metadata": {},
   "outputs": [],
   "source": []
  },
  {
   "cell_type": "code",
   "execution_count": null,
   "id": "2447ff54-49a6-4a4c-9bf9-aafc446c66c5",
   "metadata": {},
   "outputs": [],
   "source": []
  },
  {
   "cell_type": "code",
   "execution_count": 36,
   "id": "da2f79e0-3898-4c9f-b497-7a7767e35381",
   "metadata": {},
   "outputs": [
    {
     "data": {
      "text/plain": [
       "array([[[0., 0., 0.],\n",
       "        [0., 0., 0.],\n",
       "        [0., 0., 0.]],\n",
       "\n",
       "       [[0., 0., 0.],\n",
       "        [0., 0., 0.],\n",
       "        [0., 0., 0.]]])"
      ]
     },
     "execution_count": 36,
     "metadata": {},
     "output_type": "execute_result"
    }
   ],
   "source": [
    "zerosarr = np.zeros((2,3,3))\n",
    "zerosarr"
   ]
  },
  {
   "cell_type": "code",
   "execution_count": 37,
   "id": "ed84188f-f0ea-4fe4-9ce1-957115fe5e2a",
   "metadata": {},
   "outputs": [
    {
     "ename": "NameError",
     "evalue": "name 'zerrosarr' is not defined",
     "output_type": "error",
     "traceback": [
      "\u001b[1;31m---------------------------------------------------------------------------\u001b[0m",
      "\u001b[1;31mNameError\u001b[0m                                 Traceback (most recent call last)",
      "Cell \u001b[1;32mIn[37], line 1\u001b[0m\n\u001b[1;32m----> 1\u001b[0m zerrosarr\u001b[38;5;241m.\u001b[39mdtype\n",
      "\u001b[1;31mNameError\u001b[0m: name 'zerrosarr' is not defined"
     ]
    }
   ],
   "source": [
    "zerrosarr.dtype"
   ]
  },
  {
   "cell_type": "code",
   "execution_count": 38,
   "id": "7adb8ccc-932e-43b5-88dd-ec3d862f0361",
   "metadata": {},
   "outputs": [
    {
     "data": {
      "text/plain": [
       "dtype('float64')"
      ]
     },
     "execution_count": 38,
     "metadata": {},
     "output_type": "execute_result"
    }
   ],
   "source": [
    "zerosarr.dtype"
   ]
  },
  {
   "cell_type": "code",
   "execution_count": 40,
   "id": "d4bfc505-c46a-4ab1-9a3a-39703d3f1e38",
   "metadata": {},
   "outputs": [
    {
     "data": {
      "text/plain": [
       "array([[[3, 3, 3, 3, 3],\n",
       "        [3, 3, 3, 3, 3],\n",
       "        [3, 3, 3, 3, 3],\n",
       "        [3, 3, 3, 3, 3]],\n",
       "\n",
       "       [[3, 3, 3, 3, 3],\n",
       "        [3, 3, 3, 3, 3],\n",
       "        [3, 3, 3, 3, 3],\n",
       "        [3, 3, 3, 3, 3]],\n",
       "\n",
       "       [[3, 3, 3, 3, 3],\n",
       "        [3, 3, 3, 3, 3],\n",
       "        [3, 3, 3, 3, 3],\n",
       "        [3, 3, 3, 3, 3]]])"
      ]
     },
     "execution_count": 40,
     "metadata": {},
     "output_type": "execute_result"
    }
   ],
   "source": [
    "full = np.full((3,4,5,), 3)\n",
    "full"
   ]
  },
  {
   "cell_type": "code",
   "execution_count": 41,
   "id": "22ec09f7-b01e-4666-a8ce-51c0c265c410",
   "metadata": {},
   "outputs": [
    {
     "data": {
      "text/plain": [
       "array([[3, 3, 3, 3, 3],\n",
       "       [3, 3, 3, 3, 3],\n",
       "       [3, 3, 3, 3, 3],\n",
       "       [3, 3, 3, 3, 3]])"
      ]
     },
     "execution_count": 41,
     "metadata": {},
     "output_type": "execute_result"
    }
   ],
   "source": [
    "full[0]"
   ]
  },
  {
   "cell_type": "code",
   "execution_count": 42,
   "id": "ffa9ab62-a948-4103-9fd4-29e755c2a2d2",
   "metadata": {},
   "outputs": [
    {
     "data": {
      "text/plain": [
       "array([3, 3, 3, 3, 3])"
      ]
     },
     "execution_count": 42,
     "metadata": {},
     "output_type": "execute_result"
    }
   ],
   "source": [
    "full[0,1]"
   ]
  },
  {
   "cell_type": "code",
   "execution_count": 43,
   "id": "56d2c1c1-0ffe-470a-a5ca-78c4ceb457d3",
   "metadata": {},
   "outputs": [
    {
     "data": {
      "text/plain": [
       "array([[[1, 2, 3, 4],\n",
       "        [5, 6, 7, 8]],\n",
       "\n",
       "       [[1, 2, 3, 4],\n",
       "        [5, 6, 7, 8]]])"
      ]
     },
     "execution_count": 43,
     "metadata": {},
     "output_type": "execute_result"
    }
   ],
   "source": [
    "arr3[0:2]"
   ]
  },
  {
   "cell_type": "code",
   "execution_count": 44,
   "id": "78f2db49-0fbd-4384-8629-55e5445850cf",
   "metadata": {},
   "outputs": [
    {
     "data": {
      "text/plain": [
       "array([[1, 2, 3, 4],\n",
       "       [5, 6, 7, 8]])"
      ]
     },
     "execution_count": 44,
     "metadata": {},
     "output_type": "execute_result"
    }
   ],
   "source": [
    "arr3[-1]"
   ]
  },
  {
   "cell_type": "code",
   "execution_count": 45,
   "id": "b9b75872-012a-4f3e-be53-f9d7249fcef9",
   "metadata": {},
   "outputs": [
    {
     "data": {
      "text/plain": [
       "7"
      ]
     },
     "execution_count": 45,
     "metadata": {},
     "output_type": "execute_result"
    }
   ],
   "source": [
    "arr3[1,1,2]"
   ]
  },
  {
   "cell_type": "code",
   "execution_count": 46,
   "id": "2b6a2e88-a324-49e4-b2d0-87569e94f34a",
   "metadata": {},
   "outputs": [
    {
     "data": {
      "text/plain": [
       "2"
      ]
     },
     "execution_count": 46,
     "metadata": {},
     "output_type": "execute_result"
    }
   ],
   "source": [
    "arr3[1,0,1]"
   ]
  },
  {
   "cell_type": "code",
   "execution_count": 1,
   "id": "a51478a2-6945-4b12-8318-4d26d46ce729",
   "metadata": {},
   "outputs": [
    {
     "ename": "NameError",
     "evalue": "name 'np' is not defined",
     "output_type": "error",
     "traceback": [
      "\u001b[1;31m---------------------------------------------------------------------------\u001b[0m",
      "\u001b[1;31mNameError\u001b[0m                                 Traceback (most recent call last)",
      "Cell \u001b[1;32mIn[1], line 1\u001b[0m\n\u001b[1;32m----> 1\u001b[0m arr11 \u001b[38;5;241m=\u001b[39m np\u001b[38;5;241m.\u001b[39mrandom\u001b[38;5;241m.\u001b[39mrand(\u001b[38;5;241m2\u001b[39m,\u001b[38;5;241m3\u001b[39m,\u001b[38;5;241m4\u001b[39m)\n\u001b[0;32m      2\u001b[0m arr22 \u001b[38;5;241m=\u001b[39m np\u001b[38;5;241m.\u001b[39mrandom\u001b[38;5;241m.\u001b[39mrand(\u001b[38;5;241m2\u001b[39m,\u001b[38;5;241m3\u001b[39m,\u001b[38;5;241m4\u001b[39m)\n",
      "\u001b[1;31mNameError\u001b[0m: name 'np' is not defined"
     ]
    }
   ],
   "source": [
    "arr11 = np.random.rand(2,3,4)\n",
    "arr22 = np.random.rand(2,3,4)\n"
   ]
  },
  {
   "cell_type": "code",
   "execution_count": 2,
   "id": "f4b5f1e4-3563-4639-ac73-c50dbf10875a",
   "metadata": {},
   "outputs": [],
   "source": [
    "import numpy as np"
   ]
  },
  {
   "cell_type": "code",
   "execution_count": 3,
   "id": "0c43e7f1-f403-4545-b20e-8e198365c0a5",
   "metadata": {},
   "outputs": [],
   "source": [
    "arr11 = np.random.rand(2,3,4)\n",
    "arr22 = np.random.rand(2,3,4)"
   ]
  },
  {
   "cell_type": "code",
   "execution_count": 4,
   "id": "58641470-8914-4f34-be3b-e6b2f268a1c8",
   "metadata": {},
   "outputs": [
    {
     "data": {
      "text/plain": [
       "array([[[0.11178594, 0.36501197, 0.08350767, 0.52646022],\n",
       "        [0.35299209, 0.63139686, 0.85296328, 0.97899952],\n",
       "        [0.03599461, 0.12162636, 0.30279864, 0.69989252]],\n",
       "\n",
       "       [[0.32512826, 0.3167462 , 0.03823437, 0.48797278],\n",
       "        [0.62664942, 0.92458874, 0.28951815, 0.73025586],\n",
       "        [0.02696633, 0.85763852, 0.93542165, 0.63229223]]])"
      ]
     },
     "execution_count": 4,
     "metadata": {},
     "output_type": "execute_result"
    }
   ],
   "source": [
    "arr11"
   ]
  },
  {
   "cell_type": "code",
   "execution_count": 5,
   "id": "2d32d0f8-1b26-4bc9-8eb6-43fc92652a05",
   "metadata": {},
   "outputs": [
    {
     "data": {
      "text/plain": [
       "array([[[0.16654816, 0.24645666, 0.32705039, 0.15452074],\n",
       "        [0.22052829, 0.84170749, 0.15079081, 0.09322322],\n",
       "        [0.29646111, 0.62432361, 0.02465109, 0.96134432]],\n",
       "\n",
       "       [[0.20274142, 0.62641095, 0.19754428, 0.5247976 ],\n",
       "        [0.56530738, 0.5377514 , 0.33370789, 0.86177588],\n",
       "        [0.07622641, 0.85327966, 0.0435209 , 0.60316475]]])"
      ]
     },
     "execution_count": 5,
     "metadata": {},
     "output_type": "execute_result"
    }
   ],
   "source": [
    "arr22"
   ]
  },
  {
   "cell_type": "markdown",
   "id": "39005952-7e56-403d-8bbe-751eb030fcbc",
   "metadata": {},
   "source": [
    "### BASIC Math Oparations "
   ]
  },
  {
   "cell_type": "code",
   "execution_count": 6,
   "id": "4149c503-9cff-4610-a1fe-78959a19fc4d",
   "metadata": {},
   "outputs": [
    {
     "data": {
      "text/plain": [
       "array([[[0.2783341 , 0.61146863, 0.41055806, 0.68098095],\n",
       "        [0.57352038, 1.47310435, 1.00375409, 1.07222275],\n",
       "        [0.33245571, 0.74594997, 0.32744973, 1.66123684]],\n",
       "\n",
       "       [[0.52786968, 0.94315715, 0.23577865, 1.01277038],\n",
       "        [1.1919568 , 1.46234014, 0.62322605, 1.59203174],\n",
       "        [0.10319273, 1.71091818, 0.97894255, 1.23545698]]])"
      ]
     },
     "execution_count": 6,
     "metadata": {},
     "output_type": "execute_result"
    }
   ],
   "source": [
    "np.add(arr11, arr22)"
   ]
  },
  {
   "cell_type": "code",
   "execution_count": 7,
   "id": "617a2de6-40db-4a34-8664-75536b42e10c",
   "metadata": {},
   "outputs": [
    {
     "ename": "NameError",
     "evalue": "name 'a1' is not defined",
     "output_type": "error",
     "traceback": [
      "\u001b[1;31m---------------------------------------------------------------------------\u001b[0m",
      "\u001b[1;31mNameError\u001b[0m                                 Traceback (most recent call last)",
      "Cell \u001b[1;32mIn[7], line 1\u001b[0m\n\u001b[1;32m----> 1\u001b[0m np\u001b[38;5;241m.\u001b[39msubtract(a1, a2)\n",
      "\u001b[1;31mNameError\u001b[0m: name 'a1' is not defined"
     ]
    }
   ],
   "source": [
    "np.subtract(a1, a2)"
   ]
  },
  {
   "cell_type": "code",
   "execution_count": 8,
   "id": "8a5597f3-8619-4d91-aaeb-66f0d4b8ec34",
   "metadata": {},
   "outputs": [
    {
     "data": {
      "text/plain": [
       "array([[[-0.05476223,  0.11855532, -0.24354272,  0.37193948],\n",
       "        [ 0.1324638 , -0.21031062,  0.70217247,  0.8857763 ],\n",
       "        [-0.2604665 , -0.50269726,  0.27814755, -0.2614518 ]],\n",
       "\n",
       "       [[ 0.12238684, -0.30966474, -0.15930992, -0.03682483],\n",
       "        [ 0.06134203,  0.38683734, -0.04418974, -0.13152003],\n",
       "        [-0.04926008,  0.00435887,  0.89190075,  0.02912748]]])"
      ]
     },
     "execution_count": 8,
     "metadata": {},
     "output_type": "execute_result"
    }
   ],
   "source": [
    "np.subtract(arr11, arr22)"
   ]
  },
  {
   "cell_type": "code",
   "execution_count": 9,
   "id": "d15a4cf0-4240-4546-83df-60b8bea06851",
   "metadata": {},
   "outputs": [
    {
     "data": {
      "text/plain": [
       "array([[[ 0.67119285,  1.48103921,  0.25533579,  3.4070522 ],\n",
       "        [ 1.60066582,  0.75013811,  5.65659982, 10.50166997],\n",
       "        [ 0.12141426,  0.194813  , 12.28337684,  0.72803522]],\n",
       "\n",
       "       [[ 1.60365978,  0.50565241,  0.19354835,  0.92983042],\n",
       "        [ 1.10851094,  1.71936091,  0.86757958,  0.84738488],\n",
       "        [ 0.35376622,  1.00510837, 21.49361836,  1.04829109]]])"
      ]
     },
     "execution_count": 9,
     "metadata": {},
     "output_type": "execute_result"
    }
   ],
   "source": []
  },
  {
   "cell_type": "code",
   "execution_count": 10,
   "id": "9e4b2d6b-9d6e-46b1-a0bc-e46b8740a202",
   "metadata": {},
   "outputs": [
    {
     "data": {
      "text/plain": [
       "array([[[0.01861774, 0.08995963, 0.02731122, 0.08134902],\n",
       "        [0.07784474, 0.53145147, 0.12861903, 0.09126549],\n",
       "        [0.010671  , 0.07593421, 0.00746432, 0.6728377 ]],\n",
       "\n",
       "       [[0.06591696, 0.19841329, 0.00755298, 0.25608694],\n",
       "        [0.35424954, 0.49719889, 0.09661449, 0.62931688],\n",
       "        [0.00205555, 0.7318055 , 0.04071039, 0.38137639]]])"
      ]
     },
     "execution_count": 10,
     "metadata": {},
     "output_type": "execute_result"
    }
   ],
   "source": [
    "np.multiply(arr11, arr22)"
   ]
  },
  {
   "cell_type": "code",
   "execution_count": 10,
   "id": "c807ef5c-2c46-4f65-8136-4e91120c16ce",
   "metadata": {},
   "outputs": [
    {
     "data": {
      "text/plain": [
       "array([[[0.01861774, 0.08995963, 0.02731122, 0.08134902],\n",
       "        [0.07784474, 0.53145147, 0.12861903, 0.09126549],\n",
       "        [0.010671  , 0.07593421, 0.00746432, 0.6728377 ]],\n",
       "\n",
       "       [[0.06591696, 0.19841329, 0.00755298, 0.25608694],\n",
       "        [0.35424954, 0.49719889, 0.09661449, 0.62931688],\n",
       "        [0.00205555, 0.7318055 , 0.04071039, 0.38137639]]])"
      ]
     },
     "execution_count": 10,
     "metadata": {},
     "output_type": "execute_result"
    }
   ],
   "source": [
    "np.multiply(arr11, arr22)"
   ]
  },
  {
   "cell_type": "code",
   "execution_count": 10,
   "id": "14295661-9d52-40e8-8293-2739315f6338",
   "metadata": {},
   "outputs": [
    {
     "data": {
      "text/plain": [
       "array([[[0.01861774, 0.08995963, 0.02731122, 0.08134902],\n",
       "        [0.07784474, 0.53145147, 0.12861903, 0.09126549],\n",
       "        [0.010671  , 0.07593421, 0.00746432, 0.6728377 ]],\n",
       "\n",
       "       [[0.06591696, 0.19841329, 0.00755298, 0.25608694],\n",
       "        [0.35424954, 0.49719889, 0.09661449, 0.62931688],\n",
       "        [0.00205555, 0.7318055 , 0.04071039, 0.38137639]]])"
      ]
     },
     "execution_count": 10,
     "metadata": {},
     "output_type": "execute_result"
    }
   ],
   "source": [
    "np.multiply(arr11, arr22)"
   ]
  },
  {
   "cell_type": "code",
   "execution_count": 12,
   "id": "fc26e8d8-b9d1-47c2-a342-2be36eaa272f",
   "metadata": {},
   "outputs": [
    {
     "data": {
      "text/plain": [
       "5.0"
      ]
     },
     "execution_count": 12,
     "metadata": {},
     "output_type": "execute_result"
    }
   ],
   "source": [
    "sqrt"
   ]
  },
  {
   "cell_type": "code",
   "execution_count": null,
   "id": "2a1831c6-6287-45e9-beb8-9db4551cd6c3",
   "metadata": {},
   "outputs": [],
   "source": []
  },
  {
   "cell_type": "code",
   "execution_count": 13,
   "id": "36aa3b5c-8ba0-4a50-af2d-986c7a3d7505",
   "metadata": {},
   "outputs": [
    {
     "data": {
      "text/plain": [
       "2"
      ]
     },
     "execution_count": 13,
     "metadata": {},
     "output_type": "execute_result"
    }
   ],
   "source": [
    "abs"
   ]
  },
  {
   "cell_type": "markdown",
   "id": "697aa529-9ef6-43e9-84c0-ce411c15436a",
   "metadata": {},
   "source": []
  },
  {
   "cell_type": "code",
   "execution_count": 14,
   "id": "15e4d3d4-9002-49ac-a899-4049bc8abebb",
   "metadata": {},
   "outputs": [
    {
     "data": {
      "text/plain": [
       "32"
      ]
     },
     "execution_count": 14,
     "metadata": {},
     "output_type": "execute_result"
    }
   ],
   "source": [
    "power"
   ]
  },
  {
   "cell_type": "code",
   "execution_count": 15,
   "id": "3b0c433c-5d84-429b-af33-5d36fb8e6b87",
   "metadata": {},
   "outputs": [
    {
     "data": {
      "text/plain": [
       "0.026966327244369426"
      ]
     },
     "execution_count": 15,
     "metadata": {},
     "output_type": "execute_result"
    }
   ],
   "source": [
    "mins"
   ]
  },
  {
   "cell_type": "markdown",
   "id": "bf87afb1-da07-4836-914b-8af183f91fe7",
   "metadata": {},
   "source": [
    "## Update `"
   ]
  },
  {
   "cell_type": "code",
   "execution_count": 16,
   "id": "c4c7e12f-cc91-4a1c-b87c-0ae493731bd2",
   "metadata": {},
   "outputs": [
    {
     "ename": "NameError",
     "evalue": "name 'arr3' is not defined",
     "output_type": "error",
     "traceback": [
      "\u001b[1;31m---------------------------------------------------------------------------\u001b[0m",
      "\u001b[1;31mNameError\u001b[0m                                 Traceback (most recent call last)",
      "Cell \u001b[1;32mIn[16], line 1\u001b[0m\n\u001b[1;32m----> 1\u001b[0m arr3\n",
      "\u001b[1;31mNameError\u001b[0m: name 'arr3' is not defined"
     ]
    }
   ],
   "source": [
    "arr3"
   ]
  },
  {
   "cell_type": "code",
   "execution_count": 17,
   "id": "d18a90b8-6af2-46d4-a740-79824d47282d",
   "metadata": {},
   "outputs": [
    {
     "ename": "NameError",
     "evalue": "name 'arr2' is not defined",
     "output_type": "error",
     "traceback": [
      "\u001b[1;31m---------------------------------------------------------------------------\u001b[0m",
      "\u001b[1;31mNameError\u001b[0m                                 Traceback (most recent call last)",
      "Cell \u001b[1;32mIn[17], line 1\u001b[0m\n\u001b[1;32m----> 1\u001b[0m arr2\n",
      "\u001b[1;31mNameError\u001b[0m: name 'arr2' is not defined"
     ]
    }
   ],
   "source": [
    "arr2\n"
   ]
  },
  {
   "cell_type": "code",
   "execution_count": 18,
   "id": "06ccd9d2-5bfd-442c-92ae-a095baff6e22",
   "metadata": {},
   "outputs": [
    {
     "data": {
      "text/plain": [
       "array([[[0.11178594, 0.36501197, 0.08350767, 0.52646022],\n",
       "        [0.35299209, 0.63139686, 0.85296328, 0.97899952],\n",
       "        [0.03599461, 0.12162636, 0.30279864, 0.69989252]],\n",
       "\n",
       "       [[0.32512826, 0.3167462 , 0.03823437, 0.48797278],\n",
       "        [0.62664942, 0.92458874, 0.28951815, 0.73025586],\n",
       "        [0.02696633, 0.85763852, 0.93542165, 0.63229223]]])"
      ]
     },
     "execution_count": 18,
     "metadata": {},
     "output_type": "execute_result"
    }
   ],
   "source": [
    "arr11"
   ]
  },
  {
   "cell_type": "code",
   "execution_count": 19,
   "id": "9577aa61-340c-481f-b572-a731dd7f7f58",
   "metadata": {},
   "outputs": [
    {
     "data": {
      "text/plain": [
       "0.11178593676054538"
      ]
     },
     "execution_count": 19,
     "metadata": {},
     "output_type": "execute_result"
    }
   ],
   "source": [
    "arr11[0, 0, 0]"
   ]
  },
  {
   "cell_type": "code",
   "execution_count": 20,
   "id": "e69ec9e6-ffa5-4751-a8b0-d87941dfef23",
   "metadata": {},
   "outputs": [],
   "source": [
    "arr11[0, 0, 0] = 10"
   ]
  },
  {
   "cell_type": "code",
   "execution_count": 21,
   "id": "2924eb07-f2ad-4ec6-b552-9295af21b0fb",
   "metadata": {},
   "outputs": [
    {
     "data": {
      "text/plain": [
       "array([[[10.        ,  0.36501197,  0.08350767,  0.52646022],\n",
       "        [ 0.35299209,  0.63139686,  0.85296328,  0.97899952],\n",
       "        [ 0.03599461,  0.12162636,  0.30279864,  0.69989252]],\n",
       "\n",
       "       [[ 0.32512826,  0.3167462 ,  0.03823437,  0.48797278],\n",
       "        [ 0.62664942,  0.92458874,  0.28951815,  0.73025586],\n",
       "        [ 0.02696633,  0.85763852,  0.93542165,  0.63229223]]])"
      ]
     },
     "execution_count": 21,
     "metadata": {},
     "output_type": "execute_result"
    }
   ],
   "source": [
    "arr11"
   ]
  },
  {
   "cell_type": "code",
   "execution_count": 24,
   "id": "19c21cd1-1be1-44c1-afed-825b77680d41",
   "metadata": {},
   "outputs": [],
   "source": [
    "arr11.sort()"
   ]
  },
  {
   "cell_type": "code",
   "execution_count": 25,
   "id": "cab5027e-7ea3-4336-8f55-3734ba18c0c6",
   "metadata": {},
   "outputs": [
    {
     "data": {
      "text/plain": [
       "array([[[ 0.08350767,  0.36501197,  0.52646022, 10.        ],\n",
       "        [ 0.35299209,  0.63139686,  0.85296328,  0.97899952],\n",
       "        [ 0.03599461,  0.12162636,  0.30279864,  0.69989252]],\n",
       "\n",
       "       [[ 0.03823437,  0.3167462 ,  0.32512826,  0.48797278],\n",
       "        [ 0.28951815,  0.62664942,  0.73025586,  0.92458874],\n",
       "        [ 0.02696633,  0.63229223,  0.85763852,  0.93542165]]])"
      ]
     },
     "execution_count": 25,
     "metadata": {},
     "output_type": "execute_result"
    }
   ],
   "source": [
    "arr11"
   ]
  },
  {
   "cell_type": "code",
   "execution_count": 26,
   "id": "9e495ce6-8bee-4686-b945-4a5a77aa8436",
   "metadata": {},
   "outputs": [
    {
     "data": {
      "text/plain": [
       "(2, 3, 4)"
      ]
     },
     "execution_count": 26,
     "metadata": {},
     "output_type": "execute_result"
    }
   ],
   "source": [
    "arr11.shape "
   ]
  },
  {
   "cell_type": "code",
   "execution_count": 38,
   "id": "01a996d7-58bc-46a5-a0b8-0e6e9490a32e",
   "metadata": {},
   "outputs": [],
   "source": [
    "arr11_reshape = arr11.reshape(3,2,4)"
   ]
  },
  {
   "cell_type": "code",
   "execution_count": 39,
   "id": "d94f9072-18e4-4e55-a9e8-107f7467070e",
   "metadata": {},
   "outputs": [
    {
     "data": {
      "text/plain": [
       "array([[[ 0.08350767,  0.36501197,  0.52646022, 10.        ],\n",
       "        [ 0.35299209,  0.63139686,  0.85296328,  0.97899952]],\n",
       "\n",
       "       [[ 0.03599461,  0.12162636,  0.30279864,  0.69989252],\n",
       "        [ 0.03823437,  0.3167462 ,  0.32512826,  0.48797278]],\n",
       "\n",
       "       [[ 0.28951815,  0.62664942,  0.73025586,  0.92458874],\n",
       "        [ 0.02696633,  0.63229223,  0.85763852,  0.93542165]]])"
      ]
     },
     "execution_count": 39,
     "metadata": {},
     "output_type": "execute_result"
    }
   ],
   "source": [
    "arr11_reshape"
   ]
  },
  {
   "cell_type": "markdown",
   "id": "ae5d8ddc-87ee-41e7-ae6f-149ba6db7d39",
   "metadata": {},
   "source": [
    "### APPENDING Arr "
   ]
  },
  {
   "cell_type": "code",
   "execution_count": 49,
   "id": "4469c47f-079b-4295-804f-874569d2edcb",
   "metadata": {},
   "outputs": [],
   "source": [
    "zero = np.zeros([4,3,3])"
   ]
  },
  {
   "cell_type": "code",
   "execution_count": 45,
   "id": "80a076dc-aa54-4483-937e-d3215e7a32fc",
   "metadata": {},
   "outputs": [
    {
     "data": {
      "text/plain": [
       "array([0., 0., 0., 0.])"
      ]
     },
     "execution_count": 45,
     "metadata": {},
     "output_type": "execute_result"
    }
   ],
   "source": [
    "zero"
   ]
  },
  {
   "cell_type": "code",
   "execution_count": 48,
   "id": "209b7d1e-9a48-470a-9b9d-1c1f32bddacf",
   "metadata": {},
   "outputs": [],
   "source": [
    "newarr = np.ones([3,4,5])"
   ]
  },
  {
   "cell_type": "code",
   "execution_count": 50,
   "id": "b1ab2329-0da8-429d-a8ca-64e04d6e397b",
   "metadata": {},
   "outputs": [
    {
     "data": {
      "text/plain": [
       "array([[[1., 1., 1., 1., 1.],\n",
       "        [1., 1., 1., 1., 1.],\n",
       "        [1., 1., 1., 1., 1.],\n",
       "        [1., 1., 1., 1., 1.]],\n",
       "\n",
       "       [[1., 1., 1., 1., 1.],\n",
       "        [1., 1., 1., 1., 1.],\n",
       "        [1., 1., 1., 1., 1.],\n",
       "        [1., 1., 1., 1., 1.]],\n",
       "\n",
       "       [[1., 1., 1., 1., 1.],\n",
       "        [1., 1., 1., 1., 1.],\n",
       "        [1., 1., 1., 1., 1.],\n",
       "        [1., 1., 1., 1., 1.]]])"
      ]
     },
     "execution_count": 50,
     "metadata": {},
     "output_type": "execute_result"
    }
   ],
   "source": [
    "newarr"
   ]
  },
  {
   "cell_type": "code",
   "execution_count": 53,
   "id": "85ecc987-f6ba-4a70-9bf6-7262b08f1cda",
   "metadata": {},
   "outputs": [],
   "source": [
    "array = np.append(newarr, newarr, axis=0)"
   ]
  },
  {
   "cell_type": "code",
   "execution_count": 54,
   "id": "53f82b8b-08f2-4997-9939-87b58f3649bd",
   "metadata": {},
   "outputs": [
    {
     "data": {
      "text/plain": [
       "array([[[1., 1., 1., 1., 1.],\n",
       "        [1., 1., 1., 1., 1.],\n",
       "        [1., 1., 1., 1., 1.],\n",
       "        [1., 1., 1., 1., 1.]],\n",
       "\n",
       "       [[1., 1., 1., 1., 1.],\n",
       "        [1., 1., 1., 1., 1.],\n",
       "        [1., 1., 1., 1., 1.],\n",
       "        [1., 1., 1., 1., 1.]],\n",
       "\n",
       "       [[1., 1., 1., 1., 1.],\n",
       "        [1., 1., 1., 1., 1.],\n",
       "        [1., 1., 1., 1., 1.],\n",
       "        [1., 1., 1., 1., 1.]],\n",
       "\n",
       "       [[1., 1., 1., 1., 1.],\n",
       "        [1., 1., 1., 1., 1.],\n",
       "        [1., 1., 1., 1., 1.],\n",
       "        [1., 1., 1., 1., 1.]],\n",
       "\n",
       "       [[1., 1., 1., 1., 1.],\n",
       "        [1., 1., 1., 1., 1.],\n",
       "        [1., 1., 1., 1., 1.],\n",
       "        [1., 1., 1., 1., 1.]],\n",
       "\n",
       "       [[1., 1., 1., 1., 1.],\n",
       "        [1., 1., 1., 1., 1.],\n",
       "        [1., 1., 1., 1., 1.],\n",
       "        [1., 1., 1., 1., 1.]]])"
      ]
     },
     "execution_count": 54,
     "metadata": {},
     "output_type": "execute_result"
    }
   ],
   "source": [
    "array"
   ]
  },
  {
   "cell_type": "code",
   "execution_count": 60,
   "id": "455b1d60-9a86-4915-8b79-db6462da6ce7",
   "metadata": {},
   "outputs": [
    {
     "data": {
      "text/plain": [
       "array([[[1., 1., 1., 1., 1.],\n",
       "        [1., 1., 1., 1., 1.],\n",
       "        [1., 1., 1., 1., 1.],\n",
       "        [1., 1., 1., 1., 1.]],\n",
       "\n",
       "       [[1., 1., 1., 1., 1.],\n",
       "        [1., 1., 1., 1., 1.],\n",
       "        [1., 1., 1., 1., 1.],\n",
       "        [1., 1., 1., 1., 1.]],\n",
       "\n",
       "       [[1., 1., 1., 1., 1.],\n",
       "        [1., 1., 1., 1., 1.],\n",
       "        [1., 1., 1., 1., 1.],\n",
       "        [1., 1., 1., 1., 1.]],\n",
       "\n",
       "       [[1., 1., 1., 1., 1.],\n",
       "        [1., 1., 1., 1., 1.],\n",
       "        [1., 1., 1., 1., 1.],\n",
       "        [1., 1., 1., 1., 1.]],\n",
       "\n",
       "       [[1., 1., 1., 1., 1.],\n",
       "        [1., 1., 1., 1., 1.],\n",
       "        [1., 1., 1., 1., 1.],\n",
       "        [1., 1., 1., 1., 1.]],\n",
       "\n",
       "       [[1., 1., 1., 1., 1.],\n",
       "        [1., 1., 1., 1., 1.],\n",
       "        [1., 1., 1., 1., 1.],\n",
       "        [1., 1., 1., 1., 1.]],\n",
       "\n",
       "       [[1., 1., 1., 1., 1.],\n",
       "        [1., 1., 1., 1., 1.],\n",
       "        [1., 1., 1., 1., 1.],\n",
       "        [1., 1., 1., 1., 1.]],\n",
       "\n",
       "       [[1., 1., 1., 1., 1.],\n",
       "        [1., 1., 1., 1., 1.],\n",
       "        [1., 1., 1., 1., 1.],\n",
       "        [1., 1., 1., 1., 1.]],\n",
       "\n",
       "       [[1., 1., 1., 1., 1.],\n",
       "        [1., 1., 1., 1., 1.],\n",
       "        [1., 1., 1., 1., 1.],\n",
       "        [1., 1., 1., 1., 1.]]])"
      ]
     },
     "execution_count": 60,
     "metadata": {},
     "output_type": "execute_result"
    }
   ],
   "source": [
    "result_array = np.insert(array, 4, newarr, axis=0)\n",
    "result_array"
   ]
  },
  {
   "cell_type": "markdown",
   "id": "d9aed26e-5ae3-4615-9156-d96476f26f87",
   "metadata": {},
   "source": [
    "# Delete"
   ]
  },
  {
   "cell_type": "code",
   "execution_count": 61,
   "id": "0e8dc8b0-86b5-4786-8fa0-744265c9b0cb",
   "metadata": {},
   "outputs": [
    {
     "data": {
      "text/plain": [
       "array([[[1., 1., 1., 1., 1.],\n",
       "        [1., 1., 1., 1., 1.],\n",
       "        [1., 1., 1., 1., 1.]],\n",
       "\n",
       "       [[1., 1., 1., 1., 1.],\n",
       "        [1., 1., 1., 1., 1.],\n",
       "        [1., 1., 1., 1., 1.]],\n",
       "\n",
       "       [[1., 1., 1., 1., 1.],\n",
       "        [1., 1., 1., 1., 1.],\n",
       "        [1., 1., 1., 1., 1.]],\n",
       "\n",
       "       [[1., 1., 1., 1., 1.],\n",
       "        [1., 1., 1., 1., 1.],\n",
       "        [1., 1., 1., 1., 1.]],\n",
       "\n",
       "       [[1., 1., 1., 1., 1.],\n",
       "        [1., 1., 1., 1., 1.],\n",
       "        [1., 1., 1., 1., 1.]],\n",
       "\n",
       "       [[1., 1., 1., 1., 1.],\n",
       "        [1., 1., 1., 1., 1.],\n",
       "        [1., 1., 1., 1., 1.]],\n",
       "\n",
       "       [[1., 1., 1., 1., 1.],\n",
       "        [1., 1., 1., 1., 1.],\n",
       "        [1., 1., 1., 1., 1.]],\n",
       "\n",
       "       [[1., 1., 1., 1., 1.],\n",
       "        [1., 1., 1., 1., 1.],\n",
       "        [1., 1., 1., 1., 1.]],\n",
       "\n",
       "       [[1., 1., 1., 1., 1.],\n",
       "        [1., 1., 1., 1., 1.],\n",
       "        [1., 1., 1., 1., 1.]]])"
      ]
     },
     "execution_count": 61,
     "metadata": {},
     "output_type": "execute_result"
    }
   ],
   "source": [
    "np.delete(result_array, 0, axis=1)"
   ]
  },
  {
   "cell_type": "code",
   "execution_count": 62,
   "id": "752d3865-c8bf-41a2-a56a-61f4eaf9f01b",
   "metadata": {},
   "outputs": [],
   "source": [
    "np.save(\"neew array\", result_array)"
   ]
  },
  {
   "cell_type": "code",
   "execution_count": 63,
   "id": "8a017aef-c5a9-4345-b49b-84293e5165f1",
   "metadata": {},
   "outputs": [
    {
     "data": {
      "text/plain": [
       "array([[[1., 1., 1., 1., 1.],\n",
       "        [1., 1., 1., 1., 1.],\n",
       "        [1., 1., 1., 1., 1.],\n",
       "        [1., 1., 1., 1., 1.]],\n",
       "\n",
       "       [[1., 1., 1., 1., 1.],\n",
       "        [1., 1., 1., 1., 1.],\n",
       "        [1., 1., 1., 1., 1.],\n",
       "        [1., 1., 1., 1., 1.]],\n",
       "\n",
       "       [[1., 1., 1., 1., 1.],\n",
       "        [1., 1., 1., 1., 1.],\n",
       "        [1., 1., 1., 1., 1.],\n",
       "        [1., 1., 1., 1., 1.]],\n",
       "\n",
       "       [[1., 1., 1., 1., 1.],\n",
       "        [1., 1., 1., 1., 1.],\n",
       "        [1., 1., 1., 1., 1.],\n",
       "        [1., 1., 1., 1., 1.]],\n",
       "\n",
       "       [[1., 1., 1., 1., 1.],\n",
       "        [1., 1., 1., 1., 1.],\n",
       "        [1., 1., 1., 1., 1.],\n",
       "        [1., 1., 1., 1., 1.]],\n",
       "\n",
       "       [[1., 1., 1., 1., 1.],\n",
       "        [1., 1., 1., 1., 1.],\n",
       "        [1., 1., 1., 1., 1.],\n",
       "        [1., 1., 1., 1., 1.]],\n",
       "\n",
       "       [[1., 1., 1., 1., 1.],\n",
       "        [1., 1., 1., 1., 1.],\n",
       "        [1., 1., 1., 1., 1.],\n",
       "        [1., 1., 1., 1., 1.]],\n",
       "\n",
       "       [[1., 1., 1., 1., 1.],\n",
       "        [1., 1., 1., 1., 1.],\n",
       "        [1., 1., 1., 1., 1.],\n",
       "        [1., 1., 1., 1., 1.]],\n",
       "\n",
       "       [[1., 1., 1., 1., 1.],\n",
       "        [1., 1., 1., 1., 1.],\n",
       "        [1., 1., 1., 1., 1.],\n",
       "        [1., 1., 1., 1., 1.]]])"
      ]
     },
     "execution_count": 63,
     "metadata": {},
     "output_type": "execute_result"
    }
   ],
   "source": [
    "np.load(\"neew array.npy\")"
   ]
  },
  {
   "cell_type": "code",
   "execution_count": null,
   "id": "5e747e52-5c73-4a4c-8ff9-575f6d271736",
   "metadata": {},
   "outputs": [],
   "source": []
  }
 ],
 "metadata": {
  "kernelspec": {
   "display_name": "Python 3 (ipykernel)",
   "language": "python",
   "name": "python3"
  },
  "language_info": {
   "codemirror_mode": {
    "name": "ipython",
    "version": 3
   },
   "file_extension": ".py",
   "mimetype": "text/x-python",
   "name": "python",
   "nbconvert_exporter": "python",
   "pygments_lexer": "ipython3",
   "version": "3.12.5"
  }
 },
 "nbformat": 4,
 "nbformat_minor": 5
}
