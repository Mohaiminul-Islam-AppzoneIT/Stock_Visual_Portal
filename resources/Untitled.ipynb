{
 "cells": [
  {
   "cell_type": "code",
   "execution_count": 1,
   "id": "b6659d1a-0fdd-4238-8ab7-9f5373179328",
   "metadata": {},
   "outputs": [
    {
     "name": "stdout",
     "output_type": "stream",
     "text": [
      "Hello jupyter\n"
     ]
    }
   ],
   "source": [
    "print(\"Hello jupyter\")"
   ]
  },
  {
   "cell_type": "code",
   "execution_count": null,
   "id": "959b2c58-2768-45a1-a235-9538d5967805",
   "metadata": {},
   "outputs": [],
   "source": []
  }
 ],
 "metadata": {
  "kernelspec": {
   "display_name": "Python 3 (ipykernel)",
   "language": "python",
   "name": "python3"
  },
  "language_info": {
   "codemirror_mode": {
    "name": "ipython",
    "version": 3
   },
   "file_extension": ".py",
   "mimetype": "text/x-python",
   "name": "python",
   "nbconvert_exporter": "python",
   "pygments_lexer": "ipython3",
   "version": "3.12.5"
  }
 },
 "nbformat": 4,
 "nbformat_minor": 5
}
